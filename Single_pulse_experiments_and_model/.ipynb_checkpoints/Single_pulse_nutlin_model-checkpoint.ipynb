{
 "cells": [
  {
   "cell_type": "code",
   "execution_count": 2,
   "id": "7f184d84",
   "metadata": {},
   "outputs": [],
   "source": [
    "import numpy as np                                     \n",
    "import matplotlib.pyplot as plt \n",
    "from scipy.signal import find_peaks\n",
    "import pandas as pd\n",
    "import scipy\n",
    "import scipy.optimize as optimization\n",
    "from scipy.io import savemat\n",
    "from Functions_for___TheoreticalModel import *"
   ]
  },
  {
   "cell_type": "code",
   "execution_count": 3,
   "id": "51883b87",
   "metadata": {},
   "outputs": [],
   "source": [
    "INPUT_FILE_DIR = \".\\Input_data\"\n",
    "OUTPUT_FILE_DIR = \".\\Output_data\""
   ]
  },
  {
   "cell_type": "code",
   "execution_count": 4,
   "id": "ade1acd1",
   "metadata": {},
   "outputs": [],
   "source": [
    "# Parameters\n",
    "vi = 0.01\n",
    "Vol = vi*10**(-14); NA = 6.02*10**(23); Cal = NA*Vol*10**(-6);\n",
    "TC = 0.158\n",
    "kc1 = 0.15*Cal*TC;                      # production of p53\n",
    "kc2 = 0.1*TC;                           # degradation of p53 by mdm2     \n",
    "kc3 = 0.1*Cal;                          # degradation of p53 by mdm2\n",
    "kc4 = 0.1/Cal*TC;                       # production of mdm2 - mRNA\n",
    "kc5 = 0.1*TC                            # degradation of mdm2 - mRNA\n",
    "kc6 = 0.2*TC                            # production of mdm2\n",
    "kc7 = 0.1*TC                            # degradation of mdm2\n",
    "kc8 = 0.0036                            # binding of mdm2 and nutlin !!!!!! THIS IS PROBABLY SMALLER LIKE 0.0001"
   ]
  },
  {
   "cell_type": "code",
   "execution_count": 5,
   "id": "edaf3a2b",
   "metadata": {},
   "outputs": [],
   "source": [
    "# Simulation parameters\n",
    "simT = 3000 #[min]\n",
    "dt = 1\n",
    "t = np.arange(0, simT, dt)\n",
    "nut_const_vec = np.linspace(0,170,5)  # amplitude of nutlin pulse\n",
    "x0 = [0, 0, 0, 0]\n",
    "t_ON = 40 # [min]\n",
    "t_OFF = simT"
   ]
  },
  {
   "cell_type": "code",
   "execution_count": 6,
   "id": "4a5e569b",
   "metadata": {},
   "outputs": [],
   "source": [
    "def compute_PTC(trace,tstart_nut, ith_peak = 3):\n",
    "    peaks,_ = find_peaks(trace, height=0) # find peaks of p53\n",
    "    tpeaks = t[peaks] # Time of peaks [min]\n",
    "    tpeaks_before_nutlin = tpeaks[tpeaks<tstart_nut] #Time of peaks befor nutlin pulse to compute mean period\n",
    "    last_peak_before_nutlin = tpeaks_before_nutlin[-1] # Time of last peak before nutlin\n",
    "    ith_peak_after_nutlin = tpeaks[tpeaks>tstart_nut][ith_peak-1] # Time of fourth peak after nutlin\n",
    "    meanT = np.mean(np.diff(tpeaks_before_nutlin[1:]))\n",
    "    # compute the initial and final phases\n",
    "    phase0 = np.mod((tstart_nut-last_peak_before_nutlin)/meanT*2*np.pi,2*np.pi)\n",
    "    phase1 = np.mod((tstart_nut-(ith_peak_after_nutlin-meanT))/meanT*2*np.pi,2*np.pi)\n",
    "    return phase0,phase1"
   ]
  },
  {
   "cell_type": "code",
   "execution_count": 7,
   "id": "717303f0",
   "metadata": {},
   "outputs": [],
   "source": [
    "def compute_PRC_from_PTC(phase0,phase1):\n",
    "    deltaphi=phase1-phase0\n",
    "    PRC = (deltaphi<np.pi)*deltaphi+(deltaphi>=np.pi)*(deltaphi-2*np.pi)\n",
    "    return PRC"
   ]
  },
  {
   "cell_type": "code",
   "execution_count": 9,
   "id": "65008487",
   "metadata": {},
   "outputs": [],
   "source": [
    "#fig1, axs = plt.subplots(2,3, figsize=(6.5,5))\n",
    "dict_PRC = {}\n",
    "for nut_ith,nut_const  in enumerate(nut_const_vec):\n",
    "    jvec = np.linspace(0,300,num = 20) # Nutlin is delivered to num cells at different phases\n",
    "\n",
    "    phase0vec = np.zeros(len(jvec)) # Vec of initial phases before nutlin\n",
    "    phase1vec = np.zeros(len(jvec)) # Vec of final phases after nutlin\n",
    "    for ind,j in enumerate(jvec): # loop over num cells\n",
    "        \n",
    "        tstart_nut = simT/3+j*dt # Start of natlin pulse [min]       \n",
    "        x = odeRungeKutta4_p53(f_p53, x0, dt, simT, tstart_nut,t_ON, t_OFF, nut_const,\n",
    "                               args = (kc1,kc2,kc3,kc4,kc5,kc6,kc7,kc8,))\n",
    "\n",
    "        phase0,phase1 = compute_PTC(x[:,3],tstart_nut)\n",
    "        phase0vec[ind] = phase0;    phase1vec[ind] = phase1\n",
    "        PRC = compute_PRC_from_PTC(phase0vec,phase1vec)\n",
    "    dict_PRC[str(nut_const)] = PRC    \n",
    "pd.DataFrame(dict_PRC).to_pickle(OUTPUT_FILE_DIR+\"dataframe_PRC.pkl\")\n",
    "    # ######################## Phase Resetting Curve plots###############################################\n",
    "    # fig2 = plt.figure(figsize=(8, 4))\n",
    "    # ax3 = fig2.add_subplot(121)\n",
    "    # ax4 = fig2.add_subplot(122)\n",
    "    # ax3.plot(phase0vec,phase1vec, 'o',c='black', label = \"model\", zorder=10);\n",
    "    # ax3.set_xlabel(\"Initial phase\"); ax3.set_ylabel(\"Final phase\");\n",
    "    # ax3.set_xlim([0,2*np.pi]); ax3.set_ylim([0,2*np.pi])\n",
    "    # ax3.set_xticks([0,np.pi, 2*np.pi]); ax3.set_xticklabels([\"0\", r\"$\\pi$\", r\"$2\\pi$\"])\n",
    "    # ax3.set_yticks([0,np.pi, 2*np.pi]); ax3.set_yticklabels([\"0\", r\"$\\pi$\", r\"$2\\pi$\"])\n",
    "    # ax3.title.set_text('nutlin'+str(nut_const))\n",
    "    # ax4.plot(phase0vec,PRC, 'o',c='black', label = 'model', zorder=10);\n",
    "    # ax4.set_xlabel(\"Initial phase\"); ax4.set_ylabel(\"Phase shift\");\n",
    "    # ax4.set_xticks([0, np.pi, 2*np.pi]); ax4.set_yticks([-np.pi, 0, np.pi])\n",
    "    # ax4.set_xticklabels([\"0\", r\"$\\pi$\", r\"$2\\pi$\"]); ax4.set_yticklabels([r\"$-\\pi$\", \"0\", r\"$\\pi$\"])\n",
    "    # ax4.title.set_text('Phase Response Curve (PRC)')\n",
    "    # ###############################################################################################"
   ]
  },
  {
   "cell_type": "code",
   "execution_count": null,
   "id": "f26828fe",
   "metadata": {},
   "outputs": [],
   "source": []
  }
 ],
 "metadata": {
  "kernelspec": {
   "display_name": "Python 3 (ipykernel)",
   "language": "python",
   "name": "python3"
  },
  "language_info": {
   "codemirror_mode": {
    "name": "ipython",
    "version": 3
   },
   "file_extension": ".py",
   "mimetype": "text/x-python",
   "name": "python",
   "nbconvert_exporter": "python",
   "pygments_lexer": "ipython3",
   "version": "3.8.18"
  }
 },
 "nbformat": 4,
 "nbformat_minor": 5
}
